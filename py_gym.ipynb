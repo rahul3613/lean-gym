{
 "cells": [
  {
   "cell_type": "code",
   "execution_count": 1,
   "metadata": {},
   "outputs": [],
   "source": [
    "import subprocess\n",
    "import os\n",
    "#import json"
   ]
  },
  {
   "cell_type": "code",
   "execution_count": 2,
   "metadata": {},
   "outputs": [],
   "source": [
    "lean_gym_path = os.path.realpath(\"Path/to/lean-gym\")\n",
    "lean_gym = subprocess.Popen(['lean', '--run', 'src/repl.lean'],\n",
    "                            cwd=lean_gym_path,\n",
    "                            stdin=subprocess.PIPE,\n",
    "                            stdout=subprocess.PIPE)"
   ]
  },
  {
   "cell_type": "code",
   "execution_count": 4,
   "metadata": {},
   "outputs": [],
   "source": [
    "def run_lean_cmd(cmd: str):\n",
    "    lean_gym.stdin.write(cmd.encode('utf-8'))\n",
    "    print(lean_gym.stdout.readline())\n",
    "    #return json.loads(lean_gym.stdout.readline().decode('utf-8'))"
   ]
  },
  {
   "cell_type": "code",
   "execution_count": 5,
   "metadata": {},
   "outputs": [],
   "source": [
    "def init_search(decl: str) -> dict:\n",
    "    cmd = f'[\"init_search\", [\"{decl}\", \"\"]]\\n'\n",
    "    return run_lean_cmd(cmd)"
   ]
  },
  {
   "cell_type": "code",
   "execution_count": 6,
   "metadata": {},
   "outputs": [],
   "source": [
    "def run_tac(search_id: int, tactic_state_id: int, tactic: str) -> dict:\n",
    "    cmd = f'[\"run_tac\",[\"{search_id}\",\"{tactic_state_id}\",\"{tactic}\"]]\\n'\n",
    "    return run_lean_cmd(cmd)"
   ]
  },
  {
   "cell_type": "code",
   "execution_count": 7,
   "metadata": {},
   "outputs": [],
   "source": [
    "def clear_search(search_id: int) -> dict:\n",
    "    cmd = f'[\"clear_search\",[\"{search_id}\"]]\\n'\n",
    "    return run_lean_cmd(cmd)"
   ]
  },
  {
   "cell_type": "code",
   "execution_count": 1,
   "metadata": {},
   "outputs": [
    {
     "ename": "SyntaxError",
     "evalue": "invalid syntax (3346176667.py, line 2)",
     "output_type": "error",
     "traceback": [
      "\u001b[1;36m  File \u001b[1;32m\"C:\\Users\\rahul\\AppData\\Local\\Temp\\ipykernel_21316\\3346176667.py\"\u001b[1;36m, line \u001b[1;32m2\u001b[0m\n\u001b[1;33m    run_tac(search_id: int, tactic_state_id: int, tactic: str)\u001b[0m\n\u001b[1;37m                     ^\u001b[0m\n\u001b[1;31mSyntaxError\u001b[0m\u001b[1;31m:\u001b[0m invalid syntax\n"
     ]
    }
   ],
   "source": [
    "init_search('int.prime.dvd_mul')\n",
    "run_tac(0, 0, 'intros')\n",
    "run_tac(0, 1, 'apply (nat.prime.dvd_mul hp).mp')\n",
    "run_tac(0, 2, 'rw ← int.nat_abs_mul')\n",
    "run_tac(0, 3, 'exact int.coe_nat_dvd_left.mp h')"
   ]
  }
 ],
 "metadata": {
  "kernelspec": {
   "display_name": "base",
   "language": "python",
   "name": "python3"
  },
  "language_info": {
   "codemirror_mode": {
    "name": "ipython",
    "version": 3
   },
   "file_extension": ".py",
   "mimetype": "text/x-python",
   "name": "python",
   "nbconvert_exporter": "python",
   "pygments_lexer": "ipython3",
   "version": "3.9.13"
  },
  "vscode": {
   "interpreter": {
    "hash": "826190284af51cdf794d8619cf498261bf0ebabd0651a5ea2232a74269b87f9b"
   }
  }
 },
 "nbformat": 4,
 "nbformat_minor": 4
}
